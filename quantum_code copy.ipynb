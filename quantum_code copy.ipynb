{
 "cells": [
  {
   "cell_type": "code",
   "execution_count": 6,
   "metadata": {},
   "outputs": [],
   "source": [
    "import pennylane as qml\n",
    "import tensorflow as tf\n",
    "import numpy as np\n",
    "from PIL import Image\n",
    "import matplotlib.pyplot as plt"
   ]
  },
  {
   "cell_type": "code",
   "execution_count": 2,
   "metadata": {},
   "outputs": [],
   "source": [
    "dev = qml.device('default.qubit', wires=4)\n",
    "\n",
    "@qml.qnode(dev, interface='tf')\n",
    "def circuit(input):\n",
    "    qml.RY(input[0, 0]/255, wires=0)\n",
    "    qml.RY(input[1, 0]/255, wires=1)\n",
    "    qml.RY(input[1, 1]/255, wires=2)\n",
    "    qml.RY(input[0, 1]/255, wires=3)\n",
    "    qml.RY(3.44, wires=2)\n",
    "    qml.RY(4.39, wires=3)\n",
    "    qml.RY(0.58, wires=3)\n",
    "    qml.RY(1.63, wires=3)\n",
    "    return [qml.expval(qml.PauliZ(i)) for i in range(4)]"
   ]
  },
  {
   "cell_type": "code",
   "execution_count": 3,
   "metadata": {},
   "outputs": [],
   "source": [
    "imgs_all = np.load(\"batch_0.npy\")"
   ]
  },
  {
   "cell_type": "code",
   "execution_count": 10,
   "metadata": {},
   "outputs": [],
   "source": [
    "all_convs = []"
   ]
  },
  {
   "cell_type": "code",
   "execution_count": 11,
   "metadata": {},
   "outputs": [],
   "source": [
    "for i in range(len(imgs_all)):\n",
    "    conv_generated = np.zeros((64, 64, 4))\n",
    "    img_array = imgs_all[i]\n",
    "    for j in range(0, 128, 2):\n",
    "        for k in range(0, 128, 2):\n",
    "            window = img_array[j:j+2, k:k+2]\n",
    "            output = circuit(window)\n",
    "            conv_generated[j//2, k//2, 0] = output[0]\n",
    "            conv_generated[j//2, k//2, 1] = output[1]\n",
    "            conv_generated[j//2, k//2, 2] = output[2]\n",
    "            conv_generated[j//2, k//2, 3] = output[3]\n",
    "            \n",
    "    all_convs.append(conv_generated)"
   ]
  },
  {
   "cell_type": "code",
   "execution_count": null,
   "metadata": {},
   "outputs": [],
   "source": [
    "all_convs = np.array(all_convs)\n",
    "all_convs.shape"
   ]
  },
  {
   "cell_type": "code",
   "execution_count": null,
   "metadata": {},
   "outputs": [],
   "source": [
    "np.save(\"conv_batch_0.npy\", all_convs)"
   ]
  },
  {
   "cell_type": "code",
   "execution_count": null,
   "metadata": {},
   "outputs": [],
   "source": []
  },
  {
   "cell_type": "code",
   "execution_count": null,
   "metadata": {},
   "outputs": [],
   "source": []
  },
  {
   "cell_type": "code",
   "execution_count": null,
   "metadata": {},
   "outputs": [],
   "source": []
  },
  {
   "cell_type": "code",
   "execution_count": 75,
   "metadata": {},
   "outputs": [],
   "source": [
    "img_given = Image.open(\"../image(1).jpg\")\n",
    "img_given = img_given.resize((128, 128))\n",
    "img_array = np.asarray(img_given)[:,:,0]"
   ]
  },
  {
   "cell_type": "code",
   "execution_count": 77,
   "metadata": {},
   "outputs": [],
   "source": [
    "conv_generated = np.zeros((64, 64, 4))"
   ]
  },
  {
   "cell_type": "code",
   "execution_count": 78,
   "metadata": {},
   "outputs": [],
   "source": [
    "for i in range(0, 128, 2):\n",
    "    for j in range(0, 128, 2):\n",
    "        window = img_array[i:i+2, j:j+2]\n",
    "        output = circuit(window)\n",
    "        conv_generated[i//2, j//2, 0] = output[0]\n",
    "        conv_generated[i//2, j//2, 1] = output[1]\n",
    "        conv_generated[i//2, j//2, 2] = output[2]\n",
    "        conv_generated[i//2, j//2, 3] = output[3]"
   ]
  },
  {
   "cell_type": "code",
   "execution_count": 86,
   "metadata": {},
   "outputs": [
    {
     "data": {
      "text/plain": [
       "<matplotlib.image.AxesImage at 0x120a3f310>"
      ]
     },
     "execution_count": 86,
     "metadata": {},
     "output_type": "execute_result"
    },
    {
     "data": {
      "image/png": "[encoded data removed]",
      "text/plain": [
       "<Figure size 640x480 with 1 Axes>"
      ]
     },
     "metadata": {},
     "output_type": "display_data"
    }
   ],
   "source": [
    "plt.imshow(conv_generated[:,:,0], cmap='gray')"
   ]
  },
  {
   "cell_type": "code",
   "execution_count": null,
   "metadata": {},
   "outputs": [],
   "source": []
  }
 ],
 "metadata": {
  "kernelspec": {
   "display_name": "Python 3.9.6 64-bit",
   "language": "python",
   "name": "python3"
  },
  "language_info": {
   "codemirror_mode": {
    "name": "ipython",
    "version": 3
   },
   "file_extension": ".py",
   "mimetype": "text/x-python",
   "name": "python",
   "nbconvert_exporter": "python",
   "pygments_lexer": "ipython3",
   "version": "3.9.6"
  },
  "orig_nbformat": 4,
  "vscode": {
   "interpreter": {
    "hash": "31f2aee4e71d21fbe5cf8b01ff0e069b9275f58929596ceb00d14d90e3e16cd6"
   }
  }
 },
 "nbformat": 4,
 "nbformat_minor": 2
}
